{
  "nbformat": 4,
  "nbformat_minor": 0,
  "metadata": {
    "colab": {
      "name": "Check_PT_rewards.ipynb",
      "provenance": [],
      "collapsed_sections": [],
      "authorship_tag": "ABX9TyOFsh5qRjG5F3GjinlFjUDF",
      "include_colab_link": true
    },
    "kernelspec": {
      "name": "python3",
      "display_name": "Python 3"
    },
    "language_info": {
      "name": "python"
    }
  },
  "cells": [
    {
      "cell_type": "markdown",
      "metadata": {
        "id": "view-in-github",
        "colab_type": "text"
      },
      "source": [
        "<a href=\"https://colab.research.google.com/github/lamarock61/solidity/blob/main/Check_PT_rewards.ipynb\" target=\"_parent\"><img src=\"https://colab.research.google.com/assets/colab-badge.svg\" alt=\"Open In Colab\"/></a>"
      ]
    },
    {
      "cell_type": "code",
      "metadata": {
        "id": "KUKVTAInn8xZ"
      },
      "source": [
        "!pip install -force-reinstall jupyter-client>=6.1.5"
      ],
      "execution_count": null,
      "outputs": []
    },
    {
      "cell_type": "code",
      "metadata": {
        "id": "q06Oo7Eqf2oO"
      },
      "source": [
        "pip install Web3"
      ],
      "execution_count": null,
      "outputs": []
    },
    {
      "cell_type": "code",
      "metadata": {
        "id": "2SbS2Q20mrJT"
      },
      "source": [
        "!pip install --force-reinstall jsonschema==3.2.0"
      ],
      "execution_count": null,
      "outputs": []
    },
    {
      "cell_type": "code",
      "metadata": {
        "id": "IsTJcZV1oQiY"
      },
      "source": [
        "#!pip install -force-reinstall six~=1.15.0"
      ],
      "execution_count": null,
      "outputs": []
    },
    {
      "cell_type": "code",
      "metadata": {
        "id": "Wdpx5k9foVNh"
      },
      "source": [
        "#!pip install -force-reinstall folium==0.2.1"
      ],
      "execution_count": null,
      "outputs": []
    },
    {
      "cell_type": "code",
      "metadata": {
        "id": "4g98zd8PoYI8"
      },
      "source": [
        "#!pip install -force-reinstall imgaug<0.2.7,>=0.2.5"
      ],
      "execution_count": null,
      "outputs": []
    },
    {
      "cell_type": "code",
      "metadata": {
        "id": "Lx9cMVEpouHf"
      },
      "source": [
        "from web3 import Web3;\n",
        "import json;\n",
        "from datetime import date;"
      ],
      "execution_count": null,
      "outputs": []
    },
    {
      "cell_type": "code",
      "metadata": {
        "id": "zq_22eHHozba"
      },
      "source": [
        "infura_url =\"https://polygon-mainnet.infura.io/v3/xxxxx\"\n",
        "pt_draw_adress_contract = \"0x8141BcFBcEE654c5dE17C4e2B2AF26B67f9B9056\"\n",
        "myAdress = \"0x1234xxxx\""
      ],
      "execution_count": null,
      "outputs": []
    },
    {
      "cell_type": "code",
      "metadata": {
        "colab": {
          "base_uri": "https://localhost:8080/"
        },
        "id": "kgHtQw3YpE-v",
        "outputId": "3f104858-43af-49f0-a257-d5d46eb4776a"
      },
      "source": [
        "web3 = Web3(Web3.HTTPProvider(infura_url))\n",
        "web3.isConnected()"
      ],
      "execution_count": null,
      "outputs": [
        {
          "output_type": "execute_result",
          "data": {
            "text/plain": [
              "True"
            ]
          },
          "metadata": {},
          "execution_count": 3
        }
      ]
    },
    {
      "cell_type": "code",
      "metadata": {
        "id": "hjCsSj8npOq5"
      },
      "source": [
        "#web3.eth.blockNumber"
      ],
      "execution_count": null,
      "outputs": []
    },
    {
      "cell_type": "code",
      "metadata": {
        "id": "YkGQYm75pSuB"
      },
      "source": [
        "#balance = web3.eth.get_balance(myAdress)"
      ],
      "execution_count": null,
      "outputs": []
    },
    {
      "cell_type": "code",
      "metadata": {
        "colab": {
          "base_uri": "https://localhost:8080/"
        },
        "id": "ITWBlN8TpvgA",
        "outputId": "34526675-ed1f-42d6-bf7c-94f7e9f12b71"
      },
      "source": [
        "# check rewards\n",
        "abi = json.loads('[{\"inputs\":[{\"internalType\":\"address\",\"name\":\"_owner\",\"type\":\"address\"},{\"internalType\":\"contract IERC20\",\"name\":\"_token\",\"type\":\"address\"},{\"internalType\":\"contract IDrawCalculator\",\"name\":\"_drawCalculator\",\"type\":\"address\"}],\"stateMutability\":\"nonpayable\",\"type\":\"constructor\"},{\"anonymous\":false,\"inputs\":[{\"indexed\":true,\"internalType\":\"address\",\"name\":\"user\",\"type\":\"address\"},{\"indexed\":true,\"internalType\":\"uint32\",\"name\":\"drawId\",\"type\":\"uint32\"},{\"indexed\":false,\"internalType\":\"uint256\",\"name\":\"payout\",\"type\":\"uint256\"}],\"name\":\"ClaimedDraw\",\"type\":\"event\"},{\"anonymous\":false,\"inputs\":[{\"indexed\":true,\"internalType\":\"contract IDrawCalculator\",\"name\":\"calculator\",\"type\":\"address\"}],\"name\":\"DrawCalculatorSet\",\"type\":\"event\"},{\"anonymous\":false,\"inputs\":[{\"indexed\":true,\"internalType\":\"contract IERC20\",\"name\":\"token\",\"type\":\"address\"},{\"indexed\":true,\"internalType\":\"address\",\"name\":\"to\",\"type\":\"address\"},{\"indexed\":false,\"internalType\":\"uint256\",\"name\":\"amount\",\"type\":\"uint256\"}],\"name\":\"ERC20Withdrawn\",\"type\":\"event\"},{\"anonymous\":false,\"inputs\":[{\"indexed\":true,\"internalType\":\"address\",\"name\":\"pendingOwner\",\"type\":\"address\"}],\"name\":\"OwnershipOffered\",\"type\":\"event\"},{\"anonymous\":false,\"inputs\":[{\"indexed\":true,\"internalType\":\"address\",\"name\":\"previousOwner\",\"type\":\"address\"},{\"indexed\":true,\"internalType\":\"address\",\"name\":\"newOwner\",\"type\":\"address\"}],\"name\":\"OwnershipTransferred\",\"type\":\"event\"},{\"anonymous\":false,\"inputs\":[{\"indexed\":true,\"internalType\":\"contract IERC20\",\"name\":\"token\",\"type\":\"address\"}],\"name\":\"TokenSet\",\"type\":\"event\"},{\"inputs\":[{\"internalType\":\"address\",\"name\":\"_user\",\"type\":\"address\"},{\"internalType\":\"uint32[]\",\"name\":\"_drawIds\",\"type\":\"uint32[]\"},{\"internalType\":\"bytes\",\"name\":\"_data\",\"type\":\"bytes\"}],\"name\":\"claim\",\"outputs\":[{\"internalType\":\"uint256\",\"name\":\"\",\"type\":\"uint256\"}],\"stateMutability\":\"nonpayable\",\"type\":\"function\"},{\"inputs\":[],\"name\":\"claimOwnership\",\"outputs\":[],\"stateMutability\":\"nonpayable\",\"type\":\"function\"},{\"inputs\":[],\"name\":\"getDrawCalculator\",\"outputs\":[{\"internalType\":\"contract IDrawCalculator\",\"name\":\"\",\"type\":\"address\"}],\"stateMutability\":\"view\",\"type\":\"function\"},{\"inputs\":[{\"internalType\":\"address\",\"name\":\"_user\",\"type\":\"address\"},{\"internalType\":\"uint32\",\"name\":\"_drawId\",\"type\":\"uint32\"}],\"name\":\"getDrawPayoutBalanceOf\",\"outputs\":[{\"internalType\":\"uint256\",\"name\":\"\",\"type\":\"uint256\"}],\"stateMutability\":\"view\",\"type\":\"function\"},{\"inputs\":[],\"name\":\"getToken\",\"outputs\":[{\"internalType\":\"contract IERC20\",\"name\":\"\",\"type\":\"address\"}],\"stateMutability\":\"view\",\"type\":\"function\"},{\"inputs\":[],\"name\":\"owner\",\"outputs\":[{\"internalType\":\"address\",\"name\":\"\",\"type\":\"address\"}],\"stateMutability\":\"view\",\"type\":\"function\"},{\"inputs\":[],\"name\":\"pendingOwner\",\"outputs\":[{\"internalType\":\"address\",\"name\":\"\",\"type\":\"address\"}],\"stateMutability\":\"view\",\"type\":\"function\"},{\"inputs\":[],\"name\":\"renounceOwnership\",\"outputs\":[],\"stateMutability\":\"nonpayable\",\"type\":\"function\"},{\"inputs\":[{\"internalType\":\"contract IDrawCalculator\",\"name\":\"_newCalculator\",\"type\":\"address\"}],\"name\":\"setDrawCalculator\",\"outputs\":[{\"internalType\":\"contract IDrawCalculator\",\"name\":\"\",\"type\":\"address\"}],\"stateMutability\":\"nonpayable\",\"type\":\"function\"},{\"inputs\":[{\"internalType\":\"address\",\"name\":\"_newOwner\",\"type\":\"address\"}],\"name\":\"transferOwnership\",\"outputs\":[],\"stateMutability\":\"nonpayable\",\"type\":\"function\"},{\"inputs\":[{\"internalType\":\"contract IERC20\",\"name\":\"_erc20Token\",\"type\":\"address\"},{\"internalType\":\"address\",\"name\":\"_to\",\"type\":\"address\"},{\"internalType\":\"uint256\",\"name\":\"_amount\",\"type\":\"uint256\"}],\"name\":\"withdrawERC20\",\"outputs\":[{\"internalType\":\"bool\",\"name\":\"\",\"type\":\"bool\"}],\"stateMutability\":\"nonpayable\",\"type\":\"function\"}]')\n",
        "contract = web3.eth.contract(address=pt_draw_adress_contract, abi=abi)\n",
        "\n",
        "d0 = date(2021,10,16)\n",
        "today = date.today();\n",
        "delta=today - d0;\n",
        "drawNumber = delta.days;\n",
        "rewards = contract.functions.getDrawPayoutBalanceOf(myAdress, drawNumber).call()\n",
        "\n",
        "print(drawNumber)\n",
        "\n",
        "if rewards > 0:\n",
        "  print(rewards)\n",
        "  print(\"you won!\")\n",
        "  subject = \"You're a winner!\";\n",
        "else:\n",
        "  print(rewards)\n",
        "  print(\"you lost\")\n",
        "  subjet = \"You're a loser\";"
      ],
      "execution_count": null,
      "outputs": [
        {
          "output_type": "stream",
          "name": "stdout",
          "text": [
            "36\n",
            "0\n",
            "you lost\n"
          ]
        }
      ]
    },
    {
      "cell_type": "code",
      "metadata": {
        "id": "9CyWewmx03i4"
      },
      "source": [
        "# send email (not safe: use an idle address)\n",
        "#import smtplib, ssl\n",
        "\n",
        "#port = 465  # For SSL\n",
        "#smtp_server = \"smtp.gmail.com\"\n",
        "#sender_email = \"my@gmail.com\"  # Enter your address\n",
        "#receiver_email = \"your@gmail.com\"  # Enter receiver address\n",
        "#password = input(\"Type your password and press enter: \")\n",
        "#message = \"\"\"\\\n",
        "#Subject: Hi there\n",
        "\n",
        "#This message is sent from Python.\"\"\"\n",
        "\n",
        "#context = ssl.create_default_context()\n",
        "#with smtplib.SMTP_SSL(smtp_server, port, context=context) as server:\n",
        " #   server.login(sender_email, password)\n",
        "  #  server.sendmail(sender_email, receiver_email, message)"
      ],
      "execution_count": null,
      "outputs": []
    }
  ]
}